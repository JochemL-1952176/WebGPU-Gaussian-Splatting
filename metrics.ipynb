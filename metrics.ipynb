{
 "cells": [
  {
   "cell_type": "code",
   "execution_count": 5,
   "metadata": {},
   "outputs": [],
   "source": [
    "import os\n",
    "import cv2 as cv\n",
    "import skimage as ski\n",
    "import numpy as np\n",
    "import pandas as pd\n",
    "from json import load"
   ]
  },
  {
   "cell_type": "code",
   "execution_count": 6,
   "metadata": {},
   "outputs": [],
   "source": [
    "benchmarkDir = 'benchmarks/'\n",
    "sourceDir = 'models/'"
   ]
  },
  {
   "cell_type": "code",
   "execution_count": 7,
   "metadata": {},
   "outputs": [],
   "source": [
    "def compareToSource(scene, compDir):\n",
    "\tssim = {}\n",
    "\tpsnr = {}\n",
    "\n",
    "\tsourceImgDir = sourceDir + scene + '/images'\n",
    "\tbenchmarkImgDir = compDir + '/images'\n",
    "\n",
    "\ttimings = {}\n",
    "\twith open(compDir + '/timings.json') as f:\n",
    "\t\ttimings = load(f)\n",
    "\n",
    "\ttimings = {k:np.mean(v) for k,v in timings.items()}\n",
    "\n",
    "\tfor sourcePath, benchmarkPath in zip(os.listdir(sourceImgDir), os.listdir(benchmarkImgDir)):\n",
    "\t\tsource = cv.imread(sourceImgDir + '/' + sourcePath)\n",
    "\t\tsource = cv.cvtColor(source, cv.COLOR_BGR2RGB)\n",
    "\n",
    "\t\tbenchmark = cv.imread(benchmarkImgDir + '/' + benchmarkPath)\n",
    "\t\tbenchmark = cv.cvtColor(benchmark, cv.COLOR_BGR2RGB)\n",
    "\t\tsource = cv.resize(source, benchmark.shape[:2][::-1], interpolation=cv.INTER_LINEAR)\n",
    "\n",
    "\t\tfileName = sourcePath[:sourcePath.rfind('.')]\n",
    "\t\tssim[fileName] = ski.metrics.structural_similarity(source, benchmark, win_size=9, channel_axis=2)\n",
    "\t\tpsnr[fileName] = ski.metrics.peak_signal_noise_ratio(source, benchmark)\n",
    "\n",
    "\tdfs = [pd.DataFrame([[k, v] for k,v in dict.items()]) for dict in (psnr, ssim, timings)]\n",
    "\treturn  pd.merge(dfs[0], dfs[1], on=0).merge(dfs[2], on=0).reset_index(drop=True).rename(columns={0: 'Image', '1_x': 'PSNR', '1_y': 'SSIM', 1: 'mean frametime'})"
   ]
  },
  {
   "cell_type": "code",
   "execution_count": 8,
   "metadata": {},
   "outputs": [
    {
     "name": "stdout",
     "output_type": "stream",
     "text": [
      "bicycle\n",
      "\tclipped\n",
      "\tsorted\n",
      "\tstochasticFiltered\n",
      "\tWBOIT\n",
      "bonsai\n",
      "\tclipped\n",
      "\tsorted\n",
      "\tstochasticFiltered\n",
      "\tWBOIT\n",
      "counter\n",
      "\tclipped\n",
      "\tsorted\n",
      "\tstochasticFiltered\n",
      "\tWBOIT\n",
      "drjohnson\n",
      "\tclipped\n",
      "\tsorted\n",
      "\tstochasticFiltered\n",
      "\tWBOIT\n",
      "flowers\n",
      "\tclipped\n",
      "\tsorted\n",
      "\tstochasticFiltered\n",
      "\tWBOIT\n",
      "garden\n",
      "\tclipped\n",
      "\tsorted\n",
      "\tstochasticFiltered\n",
      "\tWBOIT\n",
      "kitchen\n",
      "\tclipped\n",
      "\tsorted\n",
      "\tstochasticFiltered\n",
      "\tWBOIT\n",
      "playroom\n",
      "\tclipped\n",
      "\tsorted\n",
      "\tstochasticFiltered\n",
      "\tWBOIT\n",
      "room\n",
      "\tclipped\n",
      "\tsorted\n",
      "\tstochasticFiltered\n",
      "\tWBOIT\n",
      "stump\n",
      "\tclipped\n",
      "\tsorted\n",
      "\tstochastic\n",
      "\tstochasticFiltered\n",
      "\tWBOIT\n",
      "train\n",
      "\tclipped\n",
      "\tsorted\n",
      "\tstochasticFiltered\n",
      "\tWBOIT\n",
      "treehill\n",
      "\tclipped\n",
      "\tsorted\n",
      "\tstochasticFiltered\n",
      "\tWBOIT\n",
      "truck\n",
      "\tclipped\n",
      "\tsorted\n",
      "\tstochasticFiltered\n",
      "\tWBOIT\n"
     ]
    }
   ],
   "source": [
    "for scene in os.listdir(benchmarkDir):\n",
    "\tprint(scene)\n",
    "\tsceneDir = benchmarkDir + scene\n",
    "\tfor compType in os.listdir(sceneDir):\n",
    "\t\tprint('\\t' + compType)\n",
    "\t\tcompDir = sceneDir + '/' + compType\n",
    "\t\tif (not os.path.exists(compDir + '/data.pkl')):\n",
    "\t\t\tdata = compareToSource(scene, compDir)\n",
    "\t\t\tpd.to_pickle(data, compDir + '/data.pkl')"
   ]
  }
 ],
 "metadata": {
  "kernelspec": {
   "display_name": "Python 3",
   "language": "python",
   "name": "python3"
  },
  "language_info": {
   "codemirror_mode": {
    "name": "ipython",
    "version": 3
   },
   "file_extension": ".py",
   "mimetype": "text/x-python",
   "name": "python",
   "nbconvert_exporter": "python",
   "pygments_lexer": "ipython3",
   "version": "3.11.7"
  }
 },
 "nbformat": 4,
 "nbformat_minor": 2
}
