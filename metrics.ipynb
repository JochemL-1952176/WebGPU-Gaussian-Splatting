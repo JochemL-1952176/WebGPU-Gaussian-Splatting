{
 "cells": [
  {
   "cell_type": "code",
   "execution_count": 23,
   "metadata": {},
   "outputs": [],
   "source": [
    "import os\n",
    "import cv2 as cv\n",
    "import skimage as ski\n",
    "import numpy as np\n",
    "import pandas as pd\n",
    "import seaborn as sns\n",
    "from json import load"
   ]
  },
  {
   "cell_type": "code",
   "execution_count": 24,
   "metadata": {},
   "outputs": [],
   "source": [
    "sourceImgDir = 'models/bicycle/images'\n",
    "benchmarkDir = 'benchmarks/bicycle/Clipped'\n",
    "benchmarkImgDir = benchmarkDir + '/images'\n",
    "\n",
    "numImages = min(len(os.listdir(sourceImgDir)), len(os.listdir(benchmarkImgDir)))"
   ]
  },
  {
   "cell_type": "code",
   "execution_count": 25,
   "metadata": {},
   "outputs": [],
   "source": [
    "if (os.path.exists(benchmarkDir + '/data.pkl')):\n",
    "\tdata = pd.read_pickle(benchmarkDir + '/data.pkl')\n",
    "else:\n",
    "\tssim = {}\n",
    "\tpsnr = {}\n",
    "\tfor i, (sourcePath, benchmarkPath) in enumerate(zip(os.listdir(sourceImgDir), os.listdir(benchmarkImgDir))):\n",
    "\t\tsource = cv.imread(sourceImgDir + '/' + sourcePath)\n",
    "\t\tsource = cv.cvtColor(source, cv.COLOR_BGR2RGB)\n",
    "\n",
    "\t\tbenchmark = cv.imread(benchmarkImgDir + '/' + benchmarkPath)\n",
    "\t\tbenchmark = cv.cvtColor(benchmark, cv.COLOR_BGR2RGB)\n",
    "\t\tsource = cv.resize(source, benchmark.shape[:2][::-1], interpolation=cv.INTER_LINEAR)\n",
    "\n",
    "\t\tfileName = sourcePath[:sourcePath.rfind('.')]\n",
    "\t\tssim[fileName] = ski.metrics.structural_similarity(source, benchmark, win_size=9, channel_axis=2)\n",
    "\t\tpsnr[fileName] = ski.metrics.peak_signal_noise_ratio(source, benchmark)\n",
    "\n",
    "\ttimings = {}\n",
    "\twith open(benchmarkDir + '/timings.json') as f:\n",
    "\t\ttimings = load(f)\n",
    "\n",
    "\ttimings = {k:np.median(v) for k,v in timings.items()}\n",
    "\n",
    "\tdfs = [pd.DataFrame([[k, v] for k,v in dict.items()]) for dict in (psnr, ssim, timings)]\n",
    "\tdata = pd.merge(dfs[0], dfs[1], on=0).merge(dfs[2], on=0).reset_index(drop=True).rename(columns={0: 'Image', '1_x': 'PSNR', '1_y': 'SSIM', 1: 'median frametime'})\n",
    "\tpd.to_pickle(data, benchmarkDir + '/data.pkl')"
   ]
  },
  {
   "cell_type": "code",
   "execution_count": 26,
   "metadata": {},
   "outputs": [
    {
     "data": {
      "text/html": [
       "<div>\n",
       "<style scoped>\n",
       "    .dataframe tbody tr th:only-of-type {\n",
       "        vertical-align: middle;\n",
       "    }\n",
       "\n",
       "    .dataframe tbody tr th {\n",
       "        vertical-align: top;\n",
       "    }\n",
       "\n",
       "    .dataframe thead th {\n",
       "        text-align: right;\n",
       "    }\n",
       "</style>\n",
       "<table border=\"1\" class=\"dataframe\">\n",
       "  <thead>\n",
       "    <tr style=\"text-align: right;\">\n",
       "      <th></th>\n",
       "      <th>Image</th>\n",
       "      <th>PSNR</th>\n",
       "      <th>SSIM</th>\n",
       "      <th>median frametime</th>\n",
       "    </tr>\n",
       "  </thead>\n",
       "  <tbody>\n",
       "    <tr>\n",
       "      <th>0</th>\n",
       "      <td>_DSC8679</td>\n",
       "      <td>15.403469</td>\n",
       "      <td>0.261451</td>\n",
       "      <td>21.0000</td>\n",
       "    </tr>\n",
       "    <tr>\n",
       "      <th>1</th>\n",
       "      <td>_DSC8680</td>\n",
       "      <td>14.433422</td>\n",
       "      <td>0.412543</td>\n",
       "      <td>18.4775</td>\n",
       "    </tr>\n",
       "    <tr>\n",
       "      <th>2</th>\n",
       "      <td>_DSC8681</td>\n",
       "      <td>14.849746</td>\n",
       "      <td>0.315278</td>\n",
       "      <td>20.9925</td>\n",
       "    </tr>\n",
       "    <tr>\n",
       "      <th>3</th>\n",
       "      <td>_DSC8682</td>\n",
       "      <td>14.489346</td>\n",
       "      <td>0.461871</td>\n",
       "      <td>13.5175</td>\n",
       "    </tr>\n",
       "    <tr>\n",
       "      <th>4</th>\n",
       "      <td>_DSC8683</td>\n",
       "      <td>14.930721</td>\n",
       "      <td>0.313898</td>\n",
       "      <td>21.2425</td>\n",
       "    </tr>\n",
       "    <tr>\n",
       "      <th>...</th>\n",
       "      <td>...</td>\n",
       "      <td>...</td>\n",
       "      <td>...</td>\n",
       "      <td>...</td>\n",
       "    </tr>\n",
       "    <tr>\n",
       "      <th>189</th>\n",
       "      <td>_DSC8869</td>\n",
       "      <td>16.614524</td>\n",
       "      <td>0.267495</td>\n",
       "      <td>15.9825</td>\n",
       "    </tr>\n",
       "    <tr>\n",
       "      <th>190</th>\n",
       "      <td>_DSC8870</td>\n",
       "      <td>16.228081</td>\n",
       "      <td>0.241064</td>\n",
       "      <td>15.7400</td>\n",
       "    </tr>\n",
       "    <tr>\n",
       "      <th>191</th>\n",
       "      <td>_DSC8871</td>\n",
       "      <td>16.453296</td>\n",
       "      <td>0.254001</td>\n",
       "      <td>16.5025</td>\n",
       "    </tr>\n",
       "    <tr>\n",
       "      <th>192</th>\n",
       "      <td>_DSC8872</td>\n",
       "      <td>17.257230</td>\n",
       "      <td>0.290773</td>\n",
       "      <td>19.5075</td>\n",
       "    </tr>\n",
       "    <tr>\n",
       "      <th>193</th>\n",
       "      <td>_DSC8873</td>\n",
       "      <td>17.191624</td>\n",
       "      <td>0.319118</td>\n",
       "      <td>22.0225</td>\n",
       "    </tr>\n",
       "  </tbody>\n",
       "</table>\n",
       "<p>194 rows × 4 columns</p>\n",
       "</div>"
      ],
      "text/plain": [
       "        Image       PSNR      SSIM  median frametime\n",
       "0    _DSC8679  15.403469  0.261451           21.0000\n",
       "1    _DSC8680  14.433422  0.412543           18.4775\n",
       "2    _DSC8681  14.849746  0.315278           20.9925\n",
       "3    _DSC8682  14.489346  0.461871           13.5175\n",
       "4    _DSC8683  14.930721  0.313898           21.2425\n",
       "..        ...        ...       ...               ...\n",
       "189  _DSC8869  16.614524  0.267495           15.9825\n",
       "190  _DSC8870  16.228081  0.241064           15.7400\n",
       "191  _DSC8871  16.453296  0.254001           16.5025\n",
       "192  _DSC8872  17.257230  0.290773           19.5075\n",
       "193  _DSC8873  17.191624  0.319118           22.0225\n",
       "\n",
       "[194 rows x 4 columns]"
      ]
     },
     "execution_count": 26,
     "metadata": {},
     "output_type": "execute_result"
    }
   ],
   "source": [
    "data"
   ]
  },
  {
   "cell_type": "code",
   "execution_count": 28,
   "metadata": {},
   "outputs": [
    {
     "data": {
      "text/plain": [
       "<seaborn.axisgrid.JointGrid at 0x1db88145810>"
      ]
     },
     "execution_count": 28,
     "metadata": {},
     "output_type": "execute_result"
    },
    {
     "data": {
      "image/png": "[encoded data removed]",
      "text/plain": [
       "<Figure size 600x600 with 3 Axes>"
      ]
     },
     "metadata": {},
     "output_type": "display_data"
    }
   ],
   "source": [
    "sns.jointplot(data, x='SSIM', y='median frametime')"
   ]
  }
 ],
 "metadata": {
  "kernelspec": {
   "display_name": "Python 3",
   "language": "python",
   "name": "python3"
  },
  "language_info": {
   "codemirror_mode": {
    "name": "ipython",
    "version": 3
   },
   "file_extension": ".py",
   "mimetype": "text/x-python",
   "name": "python",
   "nbconvert_exporter": "python",
   "pygments_lexer": "ipython3",
   "version": "3.11.7"
  }
 },
 "nbformat": 4,
 "nbformat_minor": 2
}
